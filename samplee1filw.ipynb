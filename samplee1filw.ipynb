{
 "cells": [
  {
   "cell_type": "code",
   "execution_count": 1,
   "metadata": {},
   "outputs": [],
   "source": [
    "\n",
    "import numpy as np  "
   ]
  },
  {
   "cell_type": "code",
   "execution_count": 2,
   "metadata": {},
   "outputs": [],
   "source": [
    "import pandas as pd  \n",
    "import matplotlib.pyplot as plt  \n",
    "import seaborn as sns  "
   ]
  },
  {
   "cell_type": "code",
   "execution_count": 32,
   "metadata": {},
   "outputs": [],
   "source": [
    "df = pd.read_csv(r'D:\\vscode\\dummypro182025\\messy_dataset_100k.csv')  "
   ]
  },
  {
   "cell_type": "code",
   "execution_count": 33,
   "metadata": {},
   "outputs": [
    {
     "name": "stdout",
     "output_type": "stream",
     "text": [
      "                                     ID               Name   Age  Salary  \\\n",
      "0  96f43560-033c-4d55-ae3b-d0fc04c175c8          dan rocha  43.0   34919   \n",
      "1  508ffa7f-cdc2-4a0c-b457-a7ba5eec3cbc        michele cox  57.0   70015   \n",
      "2  3b79f12a-7151-46b9-b0ad-7ecd8592ce46      thomas travis  29.0   57135   \n",
      "3  1509b115-89f6-49b2-820a-cb03ffacffff       jose leonard  32.0   65759   \n",
      "4  ecac913b-d736-4746-81fa-82b81b5794b0  christopher perez  48.0   36333   \n",
      "\n",
      "   Department        Joining_Date  \n",
      "0          IT          2024-12-18  \n",
      "1  Operations          2004/11/19  \n",
      "2          IT  September 21, 1971  \n",
      "3     Finance          03-16-2016  \n",
      "4          HR          20/12/1980  \n"
     ]
    }
   ],
   "source": [
    "print(df.head())  # Display first 5 rows"
   ]
  },
  {
   "cell_type": "code",
   "execution_count": 34,
   "metadata": {},
   "outputs": [
    {
     "name": "stdout",
     "output_type": "stream",
     "text": [
      "<class 'pandas.core.frame.DataFrame'>\n",
      "RangeIndex: 102000 entries, 0 to 101999\n",
      "Data columns (total 6 columns):\n",
      " #   Column        Non-Null Count   Dtype  \n",
      "---  ------        --------------   -----  \n",
      " 0   ID            101015 non-null  object \n",
      " 1   Name          102000 non-null  object \n",
      " 2   Age           96821 non-null   float64\n",
      " 3   Salary        102000 non-null  int64  \n",
      " 4   Department    101127 non-null  object \n",
      " 5   Joining_Date  99960 non-null   object \n",
      "dtypes: float64(1), int64(1), object(4)\n",
      "memory usage: 4.7+ MB\n",
      "None\n"
     ]
    }
   ],
   "source": [
    "print(df.info())  # Show column data types"
   ]
  },
  {
   "cell_type": "code",
   "execution_count": 35,
   "metadata": {},
   "outputs": [
    {
     "name": "stdout",
     "output_type": "stream",
     "text": [
      "                Age          Salary\n",
      "count  96821.000000   102000.000000\n",
      "mean      41.560416    80714.003373\n",
      "std       13.864023    79475.563743\n",
      "min       18.000000    -5000.000000\n",
      "25%       30.000000    52219.000000\n",
      "50%       42.000000    75406.000000\n",
      "75%       54.000000    97974.250000\n",
      "max       65.000000  1000000.000000\n"
     ]
    }
   ],
   "source": [
    "print(df.describe())  # Summary statistics"
   ]
  },
  {
   "cell_type": "code",
   "execution_count": 36,
   "metadata": {},
   "outputs": [
    {
     "data": {
      "text/plain": [
       "ID               985\n",
       "Name               0\n",
       "Age             5179\n",
       "Salary             0\n",
       "Department       873\n",
       "Joining_Date    2040\n",
       "dtype: int64"
      ]
     },
     "execution_count": 36,
     "metadata": {},
     "output_type": "execute_result"
    }
   ],
   "source": [
    "df.isnull().sum()"
   ]
  },
  {
   "cell_type": "code",
   "execution_count": 37,
   "metadata": {},
   "outputs": [
    {
     "name": "stderr",
     "output_type": "stream",
     "text": [
      "C:\\Users\\SATHISH KUMAR S\\AppData\\Local\\Temp\\ipykernel_3032\\1226997901.py:1: FutureWarning: A value is trying to be set on a copy of a DataFrame or Series through chained assignment using an inplace method.\n",
      "The behavior will change in pandas 3.0. This inplace method will never work because the intermediate object on which we are setting values always behaves as a copy.\n",
      "\n",
      "For example, when doing 'df[col].method(value, inplace=True)', try using 'df.method({col: value}, inplace=True)' or df[col] = df[col].method(value) instead, to perform the operation inplace on the original object.\n",
      "\n",
      "\n",
      "  df['ID'].fillna(0, inplace=True)\n"
     ]
    }
   ],
   "source": [
    "df['ID'].fillna(0, inplace=True)\n"
   ]
  },
  {
   "cell_type": "code",
   "execution_count": 38,
   "metadata": {},
   "outputs": [
    {
     "data": {
      "text/plain": [
       "ID                 0\n",
       "Name               0\n",
       "Age             5179\n",
       "Salary             0\n",
       "Department       873\n",
       "Joining_Date    2040\n",
       "dtype: int64"
      ]
     },
     "execution_count": 38,
     "metadata": {},
     "output_type": "execute_result"
    }
   ],
   "source": [
    "df.isnull().sum()"
   ]
  },
  {
   "cell_type": "code",
   "execution_count": 39,
   "metadata": {},
   "outputs": [
    {
     "name": "stderr",
     "output_type": "stream",
     "text": [
      "C:\\Users\\SATHISH KUMAR S\\AppData\\Local\\Temp\\ipykernel_3032\\171768025.py:1: FutureWarning: A value is trying to be set on a copy of a DataFrame or Series through chained assignment using an inplace method.\n",
      "The behavior will change in pandas 3.0. This inplace method will never work because the intermediate object on which we are setting values always behaves as a copy.\n",
      "\n",
      "For example, when doing 'df[col].method(value, inplace=True)', try using 'df.method({col: value}, inplace=True)' or df[col] = df[col].method(value) instead, to perform the operation inplace on the original object.\n",
      "\n",
      "\n",
      "  df['Age'].fillna(df.mean, inplace=True)\n",
      "C:\\Users\\SATHISH KUMAR S\\AppData\\Local\\Temp\\ipykernel_3032\\171768025.py:1: FutureWarning: Setting an item of incompatible dtype is deprecated and will raise an error in a future version of pandas. Value '<bound method DataFrame.mean of                                           ID               Name   Age  Salary  \\\n",
      "0       96f43560-033c-4d55-ae3b-d0fc04c175c8          dan rocha  43.0   34919   \n",
      "1       508ffa7f-cdc2-4a0c-b457-a7ba5eec3cbc        michele cox  57.0   70015   \n",
      "2       3b79f12a-7151-46b9-b0ad-7ecd8592ce46      thomas travis  29.0   57135   \n",
      "3       1509b115-89f6-49b2-820a-cb03ffacffff       jose leonard  32.0   65759   \n",
      "4       ecac913b-d736-4746-81fa-82b81b5794b0  christopher perez  48.0   36333   \n",
      "...                                      ...                ...   ...     ...   \n",
      "101995  daa68993-ede9-467f-a991-424ed068998f      sarah johnson  58.0  107722   \n",
      "101996  cae95219-09f8-40f5-be3e-e3633ac05599        allison fox  64.0   44223   \n",
      "101997  7283a906-b740-4243-bd94-f8c03e3dcf3b        paul murphy  22.0   74184   \n",
      "101998  2545034c-714c-465e-879e-8b0bf198f62e    michelle holmes  40.0   31965   \n",
      "101999  26a693f5-db93-45d2-86dc-d47a5646de18     sandra sanders  25.0   53679   \n",
      "\n",
      "        Department        Joining_Date  \n",
      "0               IT          2024-12-18  \n",
      "1       Operations          2004/11/19  \n",
      "2               IT  September 21, 1971  \n",
      "3          Finance          03-16-2016  \n",
      "4               HR          20/12/1980  \n",
      "...            ...                 ...  \n",
      "101995          HR          01/08/1999  \n",
      "101996  Operations          09-30-1995  \n",
      "101997     Finance          15/10/2002  \n",
      "101998     Finance                 NaN  \n",
      "101999   Marketing  September 28, 1974  \n",
      "\n",
      "[102000 rows x 6 columns]>' has dtype incompatible with float64, please explicitly cast to a compatible dtype first.\n",
      "  df['Age'].fillna(df.mean, inplace=True)\n"
     ]
    }
   ],
   "source": [
    "df['Age'].fillna(df.mean, inplace=True)"
   ]
  },
  {
   "cell_type": "code",
   "execution_count": 40,
   "metadata": {},
   "outputs": [
    {
     "data": {
      "text/plain": [
       "ID              False\n",
       "Name            False\n",
       "Age             False\n",
       "Salary          False\n",
       "Department       True\n",
       "Joining_Date     True\n",
       "dtype: bool"
      ]
     },
     "execution_count": 40,
     "metadata": {},
     "output_type": "execute_result"
    }
   ],
   "source": [
    "df.isnull().any()"
   ]
  },
  {
   "cell_type": "code",
   "execution_count": 41,
   "metadata": {},
   "outputs": [],
   "source": [
    "departments = ['HR', 'Finance', 'IT', 'Marketing', 'Sales']"
   ]
  },
  {
   "cell_type": "code",
   "execution_count": 42,
   "metadata": {},
   "outputs": [],
   "source": [
    "df.loc[df['Department'].isna(), 'Department'] = np.random.choice(departments, size=df['Department'].isna().sum())"
   ]
  },
  {
   "cell_type": "code",
   "execution_count": 45,
   "metadata": {},
   "outputs": [
    {
     "data": {
      "text/plain": [
       "ID              False\n",
       "Name            False\n",
       "Age             False\n",
       "Salary          False\n",
       "Department      False\n",
       "Joining_Date     True\n",
       "dtype: bool"
      ]
     },
     "execution_count": 45,
     "metadata": {},
     "output_type": "execute_result"
    }
   ],
   "source": [
    "df.isnull().any()"
   ]
  },
  {
   "cell_type": "code",
   "execution_count": 47,
   "metadata": {},
   "outputs": [
    {
     "name": "stderr",
     "output_type": "stream",
     "text": [
      "C:\\Users\\SATHISH KUMAR S\\AppData\\Local\\Temp\\ipykernel_3032\\2521561911.py:1: FutureWarning: A value is trying to be set on a copy of a DataFrame or Series through chained assignment using an inplace method.\n",
      "The behavior will change in pandas 3.0. This inplace method will never work because the intermediate object on which we are setting values always behaves as a copy.\n",
      "\n",
      "For example, when doing 'df[col].method(value, inplace=True)', try using 'df.method({col: value}, inplace=True)' or df[col] = df[col].method(value) instead, to perform the operation inplace on the original object.\n",
      "\n",
      "\n",
      "  df['Joining_Date'].fillna(method='ffill', inplace=True)\n",
      "C:\\Users\\SATHISH KUMAR S\\AppData\\Local\\Temp\\ipykernel_3032\\2521561911.py:1: FutureWarning: Series.fillna with 'method' is deprecated and will raise in a future version. Use obj.ffill() or obj.bfill() instead.\n",
      "  df['Joining_Date'].fillna(method='ffill', inplace=True)\n"
     ]
    }
   ],
   "source": [
    "df['Joining_Date'].fillna(method='ffill', inplace=True) "
   ]
  },
  {
   "cell_type": "code",
   "execution_count": 48,
   "metadata": {},
   "outputs": [
    {
     "data": {
      "text/plain": [
       "ID              False\n",
       "Name            False\n",
       "Age             False\n",
       "Salary          False\n",
       "Department      False\n",
       "Joining_Date    False\n",
       "dtype: bool"
      ]
     },
     "execution_count": 48,
     "metadata": {},
     "output_type": "execute_result"
    }
   ],
   "source": [
    "df.isnull().any()"
   ]
  },
  {
   "cell_type": "code",
   "execution_count": 52,
   "metadata": {},
   "outputs": [],
   "source": [
    "df.to_csv(\"D:\\\\vscode\\\\dummypro182025\\\\clean_data.csv\", index=False)"
   ]
  },
  {
   "cell_type": "code",
   "execution_count": 55,
   "metadata": {},
   "outputs": [],
   "source": [
    "X = df.drop(columns=[\"Salary\"])  # Features\n",
    "y = df[\"Salary\"]  # Target variable\n"
   ]
  },
  {
   "cell_type": "code",
   "execution_count": 57,
   "metadata": {},
   "outputs": [
    {
     "name": "stdout",
     "output_type": "stream",
     "text": [
      "Index(['ID', 'Name', 'Age', 'Department', 'Joining_Date'], dtype='object')\n"
     ]
    }
   ],
   "source": [
    "print(X.columns)  # Check available columns\n"
   ]
  },
  {
   "cell_type": "code",
   "execution_count": 59,
   "metadata": {},
   "outputs": [
    {
     "name": "stdout",
     "output_type": "stream",
     "text": [
      "Error: 'Years_Experience' column is missing.\n"
     ]
    }
   ],
   "source": [
    "if \"Years_Experience\" in df.columns:\n",
    "    X[\"Years_Experience\"] = df[\"Years_Experience\"]\n",
    "else:\n",
    "    print(\"Error: 'Years_Experience' column is missing.\")\n"
   ]
  },
  {
   "cell_type": "code",
   "execution_count": 60,
   "metadata": {},
   "outputs": [
    {
     "name": "stdout",
     "output_type": "stream",
     "text": [
      "                                     ID               Name   Age  Salary  \\\n",
      "0  96f43560-033c-4d55-ae3b-d0fc04c175c8          dan rocha  43.0   34919   \n",
      "1  508ffa7f-cdc2-4a0c-b457-a7ba5eec3cbc        michele cox  57.0   70015   \n",
      "2  3b79f12a-7151-46b9-b0ad-7ecd8592ce46      thomas travis  29.0   57135   \n",
      "3  1509b115-89f6-49b2-820a-cb03ffacffff       jose leonard  32.0   65759   \n",
      "4  ecac913b-d736-4746-81fa-82b81b5794b0  christopher perez  48.0   36333   \n",
      "\n",
      "   Department        Joining_Date  Years_Experience  \n",
      "0          IT          2024-12-18                 1  \n",
      "1  Operations          2004/11/19                21  \n",
      "2          IT  September 21, 1971                54  \n",
      "3     Finance          03-16-2016                 9  \n",
      "4          HR          20/12/1980                45  \n"
     ]
    },
    {
     "name": "stderr",
     "output_type": "stream",
     "text": [
      "C:\\Users\\SATHISH KUMAR S\\AppData\\Local\\Temp\\ipykernel_3032\\3194863630.py:17: FutureWarning: A value is trying to be set on a copy of a DataFrame or Series through chained assignment using an inplace method.\n",
      "The behavior will change in pandas 3.0. This inplace method will never work because the intermediate object on which we are setting values always behaves as a copy.\n",
      "\n",
      "For example, when doing 'df[col].method(value, inplace=True)', try using 'df.method({col: value}, inplace=True)' or df[col] = df[col].method(value) instead, to perform the operation inplace on the original object.\n",
      "\n",
      "\n",
      "  df[\"Years_Experience\"].fillna(df[\"Years_Experience\"].median(), inplace=True)\n"
     ]
    }
   ],
   "source": [
    "from datetime import datetime\n",
    "import numpy as np\n",
    "\n",
    "def calculate_experience(date):\n",
    "    try:\n",
    "        for fmt in (\"%Y-%m-%d\", \"%Y/%m/%d\", \"%B %d, %Y\", \"%m-%d-%Y\", \"%d/%m/%Y\"):\n",
    "            try:\n",
    "                return (datetime.now().year - datetime.strptime(date, fmt).year)\n",
    "            except ValueError:\n",
    "                continue\n",
    "    except:\n",
    "        return np.nan  # Return NaN if parsing fails\n",
    "\n",
    "df[\"Years_Experience\"] = df[\"Joining_Date\"].astype(str).apply(calculate_experience)\n",
    "\n",
    "# Fill missing values with the median\n",
    "df[\"Years_Experience\"].fillna(df[\"Years_Experience\"].median(), inplace=True)\n",
    "\n",
    "# Verify if it was created\n",
    "print(df.head())\n"
   ]
  },
  {
   "cell_type": "code",
   "execution_count": 61,
   "metadata": {},
   "outputs": [
    {
     "data": {
      "text/html": [
       "<div>\n",
       "<style scoped>\n",
       "    .dataframe tbody tr th:only-of-type {\n",
       "        vertical-align: middle;\n",
       "    }\n",
       "\n",
       "    .dataframe tbody tr th {\n",
       "        vertical-align: top;\n",
       "    }\n",
       "\n",
       "    .dataframe thead th {\n",
       "        text-align: right;\n",
       "    }\n",
       "</style>\n",
       "<table border=\"1\" class=\"dataframe\">\n",
       "  <thead>\n",
       "    <tr style=\"text-align: right;\">\n",
       "      <th></th>\n",
       "      <th>ID</th>\n",
       "      <th>Name</th>\n",
       "      <th>Age</th>\n",
       "      <th>Salary</th>\n",
       "      <th>Department</th>\n",
       "      <th>Joining_Date</th>\n",
       "      <th>Years_Experience</th>\n",
       "    </tr>\n",
       "  </thead>\n",
       "  <tbody>\n",
       "    <tr>\n",
       "      <th>0</th>\n",
       "      <td>96f43560-033c-4d55-ae3b-d0fc04c175c8</td>\n",
       "      <td>dan rocha</td>\n",
       "      <td>43.0</td>\n",
       "      <td>34919</td>\n",
       "      <td>IT</td>\n",
       "      <td>2024-12-18</td>\n",
       "      <td>1</td>\n",
       "    </tr>\n",
       "    <tr>\n",
       "      <th>1</th>\n",
       "      <td>508ffa7f-cdc2-4a0c-b457-a7ba5eec3cbc</td>\n",
       "      <td>michele cox</td>\n",
       "      <td>57.0</td>\n",
       "      <td>70015</td>\n",
       "      <td>Operations</td>\n",
       "      <td>2004/11/19</td>\n",
       "      <td>21</td>\n",
       "    </tr>\n",
       "    <tr>\n",
       "      <th>2</th>\n",
       "      <td>3b79f12a-7151-46b9-b0ad-7ecd8592ce46</td>\n",
       "      <td>thomas travis</td>\n",
       "      <td>29.0</td>\n",
       "      <td>57135</td>\n",
       "      <td>IT</td>\n",
       "      <td>September 21, 1971</td>\n",
       "      <td>54</td>\n",
       "    </tr>\n",
       "    <tr>\n",
       "      <th>3</th>\n",
       "      <td>1509b115-89f6-49b2-820a-cb03ffacffff</td>\n",
       "      <td>jose leonard</td>\n",
       "      <td>32.0</td>\n",
       "      <td>65759</td>\n",
       "      <td>Finance</td>\n",
       "      <td>03-16-2016</td>\n",
       "      <td>9</td>\n",
       "    </tr>\n",
       "    <tr>\n",
       "      <th>4</th>\n",
       "      <td>ecac913b-d736-4746-81fa-82b81b5794b0</td>\n",
       "      <td>christopher perez</td>\n",
       "      <td>48.0</td>\n",
       "      <td>36333</td>\n",
       "      <td>HR</td>\n",
       "      <td>20/12/1980</td>\n",
       "      <td>45</td>\n",
       "    </tr>\n",
       "  </tbody>\n",
       "</table>\n",
       "</div>"
      ],
      "text/plain": [
       "                                     ID               Name   Age  Salary  \\\n",
       "0  96f43560-033c-4d55-ae3b-d0fc04c175c8          dan rocha  43.0   34919   \n",
       "1  508ffa7f-cdc2-4a0c-b457-a7ba5eec3cbc        michele cox  57.0   70015   \n",
       "2  3b79f12a-7151-46b9-b0ad-7ecd8592ce46      thomas travis  29.0   57135   \n",
       "3  1509b115-89f6-49b2-820a-cb03ffacffff       jose leonard  32.0   65759   \n",
       "4  ecac913b-d736-4746-81fa-82b81b5794b0  christopher perez  48.0   36333   \n",
       "\n",
       "   Department        Joining_Date  Years_Experience  \n",
       "0          IT          2024-12-18                 1  \n",
       "1  Operations          2004/11/19                21  \n",
       "2          IT  September 21, 1971                54  \n",
       "3     Finance          03-16-2016                 9  \n",
       "4          HR          20/12/1980                45  "
      ]
     },
     "execution_count": 61,
     "metadata": {},
     "output_type": "execute_result"
    }
   ],
   "source": [
    "df.head()"
   ]
  },
  {
   "cell_type": "code",
   "execution_count": 58,
   "metadata": {},
   "outputs": [
    {
     "ename": "KeyError",
     "evalue": "'Years_Experience'",
     "output_type": "error",
     "traceback": [
      "\u001b[31m---------------------------------------------------------------------------\u001b[39m",
      "\u001b[31mKeyError\u001b[39m                                  Traceback (most recent call last)",
      "\u001b[36mFile \u001b[39m\u001b[32md:\\vscode\\dummypro182025\\venv\\Lib\\site-packages\\pandas\\core\\indexes\\base.py:3805\u001b[39m, in \u001b[36mIndex.get_loc\u001b[39m\u001b[34m(self, key)\u001b[39m\n\u001b[32m   3804\u001b[39m \u001b[38;5;28;01mtry\u001b[39;00m:\n\u001b[32m-> \u001b[39m\u001b[32m3805\u001b[39m     \u001b[38;5;28;01mreturn\u001b[39;00m \u001b[38;5;28;43mself\u001b[39;49m\u001b[43m.\u001b[49m\u001b[43m_engine\u001b[49m\u001b[43m.\u001b[49m\u001b[43mget_loc\u001b[49m\u001b[43m(\u001b[49m\u001b[43mcasted_key\u001b[49m\u001b[43m)\u001b[49m\n\u001b[32m   3806\u001b[39m \u001b[38;5;28;01mexcept\u001b[39;00m \u001b[38;5;167;01mKeyError\u001b[39;00m \u001b[38;5;28;01mas\u001b[39;00m err:\n",
      "\u001b[36mFile \u001b[39m\u001b[32mindex.pyx:167\u001b[39m, in \u001b[36mpandas._libs.index.IndexEngine.get_loc\u001b[39m\u001b[34m()\u001b[39m\n",
      "\u001b[36mFile \u001b[39m\u001b[32mindex.pyx:196\u001b[39m, in \u001b[36mpandas._libs.index.IndexEngine.get_loc\u001b[39m\u001b[34m()\u001b[39m\n",
      "\u001b[36mFile \u001b[39m\u001b[32mpandas\\\\_libs\\\\hashtable_class_helper.pxi:7081\u001b[39m, in \u001b[36mpandas._libs.hashtable.PyObjectHashTable.get_item\u001b[39m\u001b[34m()\u001b[39m\n",
      "\u001b[36mFile \u001b[39m\u001b[32mpandas\\\\_libs\\\\hashtable_class_helper.pxi:7089\u001b[39m, in \u001b[36mpandas._libs.hashtable.PyObjectHashTable.get_item\u001b[39m\u001b[34m()\u001b[39m\n",
      "\u001b[31mKeyError\u001b[39m: 'Years_Experience'",
      "\nThe above exception was the direct cause of the following exception:\n",
      "\u001b[31mKeyError\u001b[39m                                  Traceback (most recent call last)",
      "\u001b[36mCell\u001b[39m\u001b[36m \u001b[39m\u001b[32mIn[58]\u001b[39m\u001b[32m, line 1\u001b[39m\n\u001b[32m----> \u001b[39m\u001b[32m1\u001b[39m X[\u001b[33m\"\u001b[39m\u001b[33mYears_Experience\u001b[39m\u001b[33m\"\u001b[39m] = \u001b[43mdf\u001b[49m\u001b[43m[\u001b[49m\u001b[33;43m\"\u001b[39;49m\u001b[33;43mYears_Experience\u001b[39;49m\u001b[33;43m\"\u001b[39;49m\u001b[43m]\u001b[49m\n",
      "\u001b[36mFile \u001b[39m\u001b[32md:\\vscode\\dummypro182025\\venv\\Lib\\site-packages\\pandas\\core\\frame.py:4102\u001b[39m, in \u001b[36mDataFrame.__getitem__\u001b[39m\u001b[34m(self, key)\u001b[39m\n\u001b[32m   4100\u001b[39m \u001b[38;5;28;01mif\u001b[39;00m \u001b[38;5;28mself\u001b[39m.columns.nlevels > \u001b[32m1\u001b[39m:\n\u001b[32m   4101\u001b[39m     \u001b[38;5;28;01mreturn\u001b[39;00m \u001b[38;5;28mself\u001b[39m._getitem_multilevel(key)\n\u001b[32m-> \u001b[39m\u001b[32m4102\u001b[39m indexer = \u001b[38;5;28;43mself\u001b[39;49m\u001b[43m.\u001b[49m\u001b[43mcolumns\u001b[49m\u001b[43m.\u001b[49m\u001b[43mget_loc\u001b[49m\u001b[43m(\u001b[49m\u001b[43mkey\u001b[49m\u001b[43m)\u001b[49m\n\u001b[32m   4103\u001b[39m \u001b[38;5;28;01mif\u001b[39;00m is_integer(indexer):\n\u001b[32m   4104\u001b[39m     indexer = [indexer]\n",
      "\u001b[36mFile \u001b[39m\u001b[32md:\\vscode\\dummypro182025\\venv\\Lib\\site-packages\\pandas\\core\\indexes\\base.py:3812\u001b[39m, in \u001b[36mIndex.get_loc\u001b[39m\u001b[34m(self, key)\u001b[39m\n\u001b[32m   3807\u001b[39m     \u001b[38;5;28;01mif\u001b[39;00m \u001b[38;5;28misinstance\u001b[39m(casted_key, \u001b[38;5;28mslice\u001b[39m) \u001b[38;5;129;01mor\u001b[39;00m (\n\u001b[32m   3808\u001b[39m         \u001b[38;5;28misinstance\u001b[39m(casted_key, abc.Iterable)\n\u001b[32m   3809\u001b[39m         \u001b[38;5;129;01mand\u001b[39;00m \u001b[38;5;28many\u001b[39m(\u001b[38;5;28misinstance\u001b[39m(x, \u001b[38;5;28mslice\u001b[39m) \u001b[38;5;28;01mfor\u001b[39;00m x \u001b[38;5;129;01min\u001b[39;00m casted_key)\n\u001b[32m   3810\u001b[39m     ):\n\u001b[32m   3811\u001b[39m         \u001b[38;5;28;01mraise\u001b[39;00m InvalidIndexError(key)\n\u001b[32m-> \u001b[39m\u001b[32m3812\u001b[39m     \u001b[38;5;28;01mraise\u001b[39;00m \u001b[38;5;167;01mKeyError\u001b[39;00m(key) \u001b[38;5;28;01mfrom\u001b[39;00m\u001b[38;5;250m \u001b[39m\u001b[34;01merr\u001b[39;00m\n\u001b[32m   3813\u001b[39m \u001b[38;5;28;01mexcept\u001b[39;00m \u001b[38;5;167;01mTypeError\u001b[39;00m:\n\u001b[32m   3814\u001b[39m     \u001b[38;5;66;03m# If we have a listlike key, _check_indexing_error will raise\u001b[39;00m\n\u001b[32m   3815\u001b[39m     \u001b[38;5;66;03m#  InvalidIndexError. Otherwise we fall through and re-raise\u001b[39;00m\n\u001b[32m   3816\u001b[39m     \u001b[38;5;66;03m#  the TypeError.\u001b[39;00m\n\u001b[32m   3817\u001b[39m     \u001b[38;5;28mself\u001b[39m._check_indexing_error(key)\n",
      "\u001b[31mKeyError\u001b[39m: 'Years_Experience'"
     ]
    }
   ],
   "source": [
    "X[\"Years_Experience\"] = df[\"Years_Experience\"]\n"
   ]
  },
  {
   "cell_type": "code",
   "execution_count": 56,
   "metadata": {},
   "outputs": [
    {
     "ename": "KeyError",
     "evalue": "'Years_Experience'",
     "output_type": "error",
     "traceback": [
      "\u001b[31m---------------------------------------------------------------------------\u001b[39m",
      "\u001b[31mKeyError\u001b[39m                                  Traceback (most recent call last)",
      "\u001b[36mFile \u001b[39m\u001b[32md:\\vscode\\dummypro182025\\venv\\Lib\\site-packages\\pandas\\core\\indexes\\base.py:3805\u001b[39m, in \u001b[36mIndex.get_loc\u001b[39m\u001b[34m(self, key)\u001b[39m\n\u001b[32m   3804\u001b[39m \u001b[38;5;28;01mtry\u001b[39;00m:\n\u001b[32m-> \u001b[39m\u001b[32m3805\u001b[39m     \u001b[38;5;28;01mreturn\u001b[39;00m \u001b[38;5;28;43mself\u001b[39;49m\u001b[43m.\u001b[49m\u001b[43m_engine\u001b[49m\u001b[43m.\u001b[49m\u001b[43mget_loc\u001b[49m\u001b[43m(\u001b[49m\u001b[43mcasted_key\u001b[49m\u001b[43m)\u001b[49m\n\u001b[32m   3806\u001b[39m \u001b[38;5;28;01mexcept\u001b[39;00m \u001b[38;5;167;01mKeyError\u001b[39;00m \u001b[38;5;28;01mas\u001b[39;00m err:\n",
      "\u001b[36mFile \u001b[39m\u001b[32mindex.pyx:167\u001b[39m, in \u001b[36mpandas._libs.index.IndexEngine.get_loc\u001b[39m\u001b[34m()\u001b[39m\n",
      "\u001b[36mFile \u001b[39m\u001b[32mindex.pyx:196\u001b[39m, in \u001b[36mpandas._libs.index.IndexEngine.get_loc\u001b[39m\u001b[34m()\u001b[39m\n",
      "\u001b[36mFile \u001b[39m\u001b[32mpandas\\\\_libs\\\\hashtable_class_helper.pxi:7081\u001b[39m, in \u001b[36mpandas._libs.hashtable.PyObjectHashTable.get_item\u001b[39m\u001b[34m()\u001b[39m\n",
      "\u001b[36mFile \u001b[39m\u001b[32mpandas\\\\_libs\\\\hashtable_class_helper.pxi:7089\u001b[39m, in \u001b[36mpandas._libs.hashtable.PyObjectHashTable.get_item\u001b[39m\u001b[34m()\u001b[39m\n",
      "\u001b[31mKeyError\u001b[39m: 'Years_Experience'",
      "\nThe above exception was the direct cause of the following exception:\n",
      "\u001b[31mKeyError\u001b[39m                                  Traceback (most recent call last)",
      "\u001b[36mCell\u001b[39m\u001b[36m \u001b[39m\u001b[32mIn[56]\u001b[39m\u001b[32m, line 1\u001b[39m\n\u001b[32m----> \u001b[39m\u001b[32m1\u001b[39m X[\u001b[33m\"\u001b[39m\u001b[33mAge_Experience\u001b[39m\u001b[33m\"\u001b[39m] = X[\u001b[33m\"\u001b[39m\u001b[33mAge\u001b[39m\u001b[33m\"\u001b[39m] * \u001b[43mX\u001b[49m\u001b[43m[\u001b[49m\u001b[33;43m\"\u001b[39;49m\u001b[33;43mYears_Experience\u001b[39;49m\u001b[33;43m\"\u001b[39;49m\u001b[43m]\u001b[49m\n",
      "\u001b[36mFile \u001b[39m\u001b[32md:\\vscode\\dummypro182025\\venv\\Lib\\site-packages\\pandas\\core\\frame.py:4102\u001b[39m, in \u001b[36mDataFrame.__getitem__\u001b[39m\u001b[34m(self, key)\u001b[39m\n\u001b[32m   4100\u001b[39m \u001b[38;5;28;01mif\u001b[39;00m \u001b[38;5;28mself\u001b[39m.columns.nlevels > \u001b[32m1\u001b[39m:\n\u001b[32m   4101\u001b[39m     \u001b[38;5;28;01mreturn\u001b[39;00m \u001b[38;5;28mself\u001b[39m._getitem_multilevel(key)\n\u001b[32m-> \u001b[39m\u001b[32m4102\u001b[39m indexer = \u001b[38;5;28;43mself\u001b[39;49m\u001b[43m.\u001b[49m\u001b[43mcolumns\u001b[49m\u001b[43m.\u001b[49m\u001b[43mget_loc\u001b[49m\u001b[43m(\u001b[49m\u001b[43mkey\u001b[49m\u001b[43m)\u001b[49m\n\u001b[32m   4103\u001b[39m \u001b[38;5;28;01mif\u001b[39;00m is_integer(indexer):\n\u001b[32m   4104\u001b[39m     indexer = [indexer]\n",
      "\u001b[36mFile \u001b[39m\u001b[32md:\\vscode\\dummypro182025\\venv\\Lib\\site-packages\\pandas\\core\\indexes\\base.py:3812\u001b[39m, in \u001b[36mIndex.get_loc\u001b[39m\u001b[34m(self, key)\u001b[39m\n\u001b[32m   3807\u001b[39m     \u001b[38;5;28;01mif\u001b[39;00m \u001b[38;5;28misinstance\u001b[39m(casted_key, \u001b[38;5;28mslice\u001b[39m) \u001b[38;5;129;01mor\u001b[39;00m (\n\u001b[32m   3808\u001b[39m         \u001b[38;5;28misinstance\u001b[39m(casted_key, abc.Iterable)\n\u001b[32m   3809\u001b[39m         \u001b[38;5;129;01mand\u001b[39;00m \u001b[38;5;28many\u001b[39m(\u001b[38;5;28misinstance\u001b[39m(x, \u001b[38;5;28mslice\u001b[39m) \u001b[38;5;28;01mfor\u001b[39;00m x \u001b[38;5;129;01min\u001b[39;00m casted_key)\n\u001b[32m   3810\u001b[39m     ):\n\u001b[32m   3811\u001b[39m         \u001b[38;5;28;01mraise\u001b[39;00m InvalidIndexError(key)\n\u001b[32m-> \u001b[39m\u001b[32m3812\u001b[39m     \u001b[38;5;28;01mraise\u001b[39;00m \u001b[38;5;167;01mKeyError\u001b[39;00m(key) \u001b[38;5;28;01mfrom\u001b[39;00m\u001b[38;5;250m \u001b[39m\u001b[34;01merr\u001b[39;00m\n\u001b[32m   3813\u001b[39m \u001b[38;5;28;01mexcept\u001b[39;00m \u001b[38;5;167;01mTypeError\u001b[39;00m:\n\u001b[32m   3814\u001b[39m     \u001b[38;5;66;03m# If we have a listlike key, _check_indexing_error will raise\u001b[39;00m\n\u001b[32m   3815\u001b[39m     \u001b[38;5;66;03m#  InvalidIndexError. Otherwise we fall through and re-raise\u001b[39;00m\n\u001b[32m   3816\u001b[39m     \u001b[38;5;66;03m#  the TypeError.\u001b[39;00m\n\u001b[32m   3817\u001b[39m     \u001b[38;5;28mself\u001b[39m._check_indexing_error(key)\n",
      "\u001b[31mKeyError\u001b[39m: 'Years_Experience'"
     ]
    }
   ],
   "source": [
    "X[\"Age_Experience\"] = X[\"Age\"] * X[\"Years_Experience\"]\n"
   ]
  }
 ],
 "metadata": {
  "kernelspec": {
   "display_name": "venv",
   "language": "python",
   "name": "python3"
  },
  "language_info": {
   "codemirror_mode": {
    "name": "ipython",
    "version": 3
   },
   "file_extension": ".py",
   "mimetype": "text/x-python",
   "name": "python",
   "nbconvert_exporter": "python",
   "pygments_lexer": "ipython3",
   "version": "3.12.6"
  }
 },
 "nbformat": 4,
 "nbformat_minor": 2
}
